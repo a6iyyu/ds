{
 "cells": [
  {
   "cell_type": "code",
   "execution_count": 1,
   "metadata": {},
   "outputs": [],
   "source": [
    "import pandas as pd"
   ]
  },
  {
   "attachments": {},
   "cell_type": "markdown",
   "metadata": {},
   "source": [
    "EN: Are some states trendsetters? That is, the naming pattern they have get adopted by other states?\n",
    "\n",
    "IN: Apakah beberapa negara bagian menjadi trendsetter? Artinya, pola penamaan yang mereka miliki diadopsi oleh negara bagian lain?"
   ]
  },
  {
   "cell_type": "code",
   "execution_count": 6,
   "metadata": {},
   "outputs": [
    {
     "name": "stdout",
     "output_type": "stream",
     "text": [
      "  Id,Name,Year,Gender,Count\n",
      "0        1,Mary,1880,F,7065\n",
      "1        2,Anna,1880,F,2604\n",
      "2        3,Emma,1880,F,2003\n",
      "3   4,Elizabeth,1880,F,1939\n",
      "4      5,Minnie,1880,F,1746 \n",
      "\n",
      "         Id,Name,Year,Gender,Count\n",
      "1825428   1825429,Zykeem,2014,M,5\n",
      "1825429   1825430,Zymeer,2014,M,5\n",
      "1825430  1825431,Zymiere,2014,M,5\n",
      "1825431    1825432,Zyran,2014,M,5\n",
      "1825432    1825433,Zyrin,2014,M,5\n"
     ]
    }
   ],
   "source": [
    "national_names = pd.read_csv(\"NationalNames.csv\", delimiter=\";\")\n",
    "print(national_names.head(-5))"
   ]
  },
  {
   "cell_type": "code",
   "execution_count": 9,
   "metadata": {},
   "outputs": [
    {
     "name": "stdout",
     "output_type": "stream",
     "text": [
      "   Id      Name  Year Gender State  Count\n",
      "0   1      Mary  1910      F    AK     14\n",
      "1   2     Annie  1910      F    AK     12\n",
      "2   3      Anna  1910      F    AK     10\n",
      "3   4  Margaret  1910      F    AK      8\n",
      "4   5     Helen  1910      F    AK      7\n"
     ]
    }
   ],
   "source": [
    "state_names = pd.read_csv('StateNames.csv')\n",
    "print(state_names.head())"
   ]
  },
  {
   "cell_type": "code",
   "execution_count": 10,
   "metadata": {},
   "outputs": [
    {
     "name": "stdout",
     "output_type": "stream",
     "text": [
      "Name\n",
      "Aaban       2\n",
      "Aadan       4\n",
      "Aaden     196\n",
      "Aadhya     40\n",
      "Aadi       39\n",
      "         ... \n",
      "Zyquan      9\n",
      "Zyra        7\n",
      "Zyrah       2\n",
      "Zyria      14\n",
      "Zyriah      9\n",
      "Name: Name, Length: 23751, dtype: int64\n",
      "            Name State  Count\n",
      "0          Aaban    NY     12\n",
      "1          Aadan    CA     18\n",
      "2          Aadan    TX      5\n",
      "3        Aadarsh    IL      5\n",
      "7          Aaden    CA    511\n",
      "...          ...   ...    ...\n",
      "284466     Zyria    MS     10\n",
      "284470    Zyriah    TX     42\n",
      "284468    Zyriah    GA     10\n",
      "284469    Zyriah    LA      6\n",
      "284471  Zyshonne    GA      5\n",
      "\n",
      "[284472 rows x 3 columns]\n"
     ]
    }
   ],
   "source": [
    "state_names['Name'] = state_names['Name'].str.rstrip()\n",
    "\n",
    "same_names = state_names.groupby('Name')['Name'].count()\n",
    "\n",
    "trendsetters = same_names[same_names > 1]\n",
    "\n",
    "adopted_names = state_names.groupby(['Name', 'State'])['Count'].sum().reset_index()\n",
    "adopted_names = adopted_names.sort_values(by=['Name', 'Count'], ascending=[True, False])\n",
    "\n",
    "print(trendsetters)\n",
    "print(adopted_names)"
   ]
  },
  {
   "cell_type": "code",
   "execution_count": null,
   "metadata": {},
   "outputs": [],
   "source": []
  }
 ],
 "metadata": {
  "kernelspec": {
   "display_name": "Python 3",
   "language": "python",
   "name": "python3"
  },
  "language_info": {
   "codemirror_mode": {
    "name": "ipython",
    "version": 3
   },
   "file_extension": ".py",
   "mimetype": "text/x-python",
   "name": "python",
   "nbconvert_exporter": "python",
   "pygments_lexer": "ipython3",
   "version": "3.11.5"
  },
  "orig_nbformat": 4
 },
 "nbformat": 4,
 "nbformat_minor": 2
}
