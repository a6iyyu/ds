{
 "cells": [
  {
   "cell_type": "code",
   "execution_count": 1,
   "metadata": {},
   "outputs": [],
   "source": [
    "import pandas as pd"
   ]
  },
  {
   "attachments": {},
   "cell_type": "markdown",
   "metadata": {},
   "source": [
    "BAB I: Statistik dan Agregasi"
   ]
  },
  {
   "cell_type": "code",
   "execution_count": 2,
   "metadata": {},
   "outputs": [],
   "source": [
    "data = pd.read_csv(\"ECommerce.csv\", delimiter = ';')"
   ]
  },
  {
   "cell_type": "code",
   "execution_count": 3,
   "metadata": {},
   "outputs": [
    {
     "name": "stdout",
     "output_type": "stream",
     "text": [
      "nama-pelanggan,tanggal-pesanan,nama-pabrik,kota-pelanggan,kategori-barang,ID-pembelian,kuantitas-barang    53\n",
      "dtype: int64 \n",
      "\n",
      "Data yang dimasukkan memiliki jumlah sebanyak 53 baris.\n",
      "\n"
     ]
    },
    {
     "ename": "KeyError",
     "evalue": "'kuantitas-barang'",
     "output_type": "error",
     "traceback": [
      "\u001b[1;31m---------------------------------------------------------------------------\u001b[0m",
      "\u001b[1;31mKeyError\u001b[0m                                  Traceback (most recent call last)",
      "File \u001b[1;32mc:\\Users\\BISMILLAH\\AppData\\Local\\Programs\\Python\\Python311\\Lib\\site-packages\\pandas\\core\\indexes\\base.py:3790\u001b[0m, in \u001b[0;36mIndex.get_loc\u001b[1;34m(self, key)\u001b[0m\n\u001b[0;32m   3789\u001b[0m \u001b[39mtry\u001b[39;00m:\n\u001b[1;32m-> 3790\u001b[0m     \u001b[39mreturn\u001b[39;00m \u001b[39mself\u001b[39;49m\u001b[39m.\u001b[39;49m_engine\u001b[39m.\u001b[39;49mget_loc(casted_key)\n\u001b[0;32m   3791\u001b[0m \u001b[39mexcept\u001b[39;00m \u001b[39mKeyError\u001b[39;00m \u001b[39mas\u001b[39;00m err:\n",
      "File \u001b[1;32mindex.pyx:152\u001b[0m, in \u001b[0;36mpandas._libs.index.IndexEngine.get_loc\u001b[1;34m()\u001b[0m\n",
      "File \u001b[1;32mindex.pyx:181\u001b[0m, in \u001b[0;36mpandas._libs.index.IndexEngine.get_loc\u001b[1;34m()\u001b[0m\n",
      "File \u001b[1;32mpandas\\_libs\\hashtable_class_helper.pxi:7080\u001b[0m, in \u001b[0;36mpandas._libs.hashtable.PyObjectHashTable.get_item\u001b[1;34m()\u001b[0m\n",
      "File \u001b[1;32mpandas\\_libs\\hashtable_class_helper.pxi:7088\u001b[0m, in \u001b[0;36mpandas._libs.hashtable.PyObjectHashTable.get_item\u001b[1;34m()\u001b[0m\n",
      "\u001b[1;31mKeyError\u001b[0m: 'kuantitas-barang'",
      "\nThe above exception was the direct cause of the following exception:\n",
      "\u001b[1;31mKeyError\u001b[0m                                  Traceback (most recent call last)",
      "Cell \u001b[1;32mIn[3], line 4\u001b[0m\n\u001b[0;32m      1\u001b[0m \u001b[39mprint\u001b[39m(data\u001b[39m.\u001b[39mcount(), \u001b[39m\"\u001b[39m\u001b[39m\\n\u001b[39;00m\u001b[39m\"\u001b[39m)\n\u001b[0;32m      2\u001b[0m \u001b[39mprint\u001b[39m(\u001b[39m\"\u001b[39m\u001b[39mData yang dimasukkan memiliki jumlah sebanyak\u001b[39m\u001b[39m\"\u001b[39m, \u001b[39mlen\u001b[39m(data), \u001b[39m\"\u001b[39m\u001b[39mbaris.\u001b[39m\u001b[39m\\n\u001b[39;00m\u001b[39m\"\u001b[39m)\n\u001b[1;32m----> 4\u001b[0m total_kuantitas \u001b[39m=\u001b[39m data[\u001b[39m'\u001b[39;49m\u001b[39mkuantitas-barang\u001b[39;49m\u001b[39m'\u001b[39;49m]\u001b[39m.\u001b[39msum()\n\u001b[0;32m      5\u001b[0m \u001b[39mprint\u001b[39m(\u001b[39m\"\u001b[39m\u001b[39mTotal kuantitas barang yang terjual sebanyak\u001b[39m\u001b[39m\"\u001b[39m, total_kuantitas, \u001b[39m\"\u001b[39m\u001b[39mbuah.\u001b[39m\u001b[39m\\n\u001b[39;00m\u001b[39m\"\u001b[39m)\n\u001b[0;32m      7\u001b[0m rerata_kuantitas \u001b[39m=\u001b[39m data[\u001b[39m'\u001b[39m\u001b[39mkuantitas-barang\u001b[39m\u001b[39m'\u001b[39m]\u001b[39m.\u001b[39mmean()\n",
      "File \u001b[1;32mc:\\Users\\BISMILLAH\\AppData\\Local\\Programs\\Python\\Python311\\Lib\\site-packages\\pandas\\core\\frame.py:3893\u001b[0m, in \u001b[0;36mDataFrame.__getitem__\u001b[1;34m(self, key)\u001b[0m\n\u001b[0;32m   3891\u001b[0m \u001b[39mif\u001b[39;00m \u001b[39mself\u001b[39m\u001b[39m.\u001b[39mcolumns\u001b[39m.\u001b[39mnlevels \u001b[39m>\u001b[39m \u001b[39m1\u001b[39m:\n\u001b[0;32m   3892\u001b[0m     \u001b[39mreturn\u001b[39;00m \u001b[39mself\u001b[39m\u001b[39m.\u001b[39m_getitem_multilevel(key)\n\u001b[1;32m-> 3893\u001b[0m indexer \u001b[39m=\u001b[39m \u001b[39mself\u001b[39;49m\u001b[39m.\u001b[39;49mcolumns\u001b[39m.\u001b[39;49mget_loc(key)\n\u001b[0;32m   3894\u001b[0m \u001b[39mif\u001b[39;00m is_integer(indexer):\n\u001b[0;32m   3895\u001b[0m     indexer \u001b[39m=\u001b[39m [indexer]\n",
      "File \u001b[1;32mc:\\Users\\BISMILLAH\\AppData\\Local\\Programs\\Python\\Python311\\Lib\\site-packages\\pandas\\core\\indexes\\base.py:3797\u001b[0m, in \u001b[0;36mIndex.get_loc\u001b[1;34m(self, key)\u001b[0m\n\u001b[0;32m   3792\u001b[0m     \u001b[39mif\u001b[39;00m \u001b[39misinstance\u001b[39m(casted_key, \u001b[39mslice\u001b[39m) \u001b[39mor\u001b[39;00m (\n\u001b[0;32m   3793\u001b[0m         \u001b[39misinstance\u001b[39m(casted_key, abc\u001b[39m.\u001b[39mIterable)\n\u001b[0;32m   3794\u001b[0m         \u001b[39mand\u001b[39;00m \u001b[39many\u001b[39m(\u001b[39misinstance\u001b[39m(x, \u001b[39mslice\u001b[39m) \u001b[39mfor\u001b[39;00m x \u001b[39min\u001b[39;00m casted_key)\n\u001b[0;32m   3795\u001b[0m     ):\n\u001b[0;32m   3796\u001b[0m         \u001b[39mraise\u001b[39;00m InvalidIndexError(key)\n\u001b[1;32m-> 3797\u001b[0m     \u001b[39mraise\u001b[39;00m \u001b[39mKeyError\u001b[39;00m(key) \u001b[39mfrom\u001b[39;00m \u001b[39merr\u001b[39;00m\n\u001b[0;32m   3798\u001b[0m \u001b[39mexcept\u001b[39;00m \u001b[39mTypeError\u001b[39;00m:\n\u001b[0;32m   3799\u001b[0m     \u001b[39m# If we have a listlike key, _check_indexing_error will raise\u001b[39;00m\n\u001b[0;32m   3800\u001b[0m     \u001b[39m#  InvalidIndexError. Otherwise we fall through and re-raise\u001b[39;00m\n\u001b[0;32m   3801\u001b[0m     \u001b[39m#  the TypeError.\u001b[39;00m\n\u001b[0;32m   3802\u001b[0m     \u001b[39mself\u001b[39m\u001b[39m.\u001b[39m_check_indexing_error(key)\n",
      "\u001b[1;31mKeyError\u001b[0m: 'kuantitas-barang'"
     ]
    }
   ],
   "source": [
    "print(data.count(), \"\\n\")\n",
    "print(\"Data yang dimasukkan memiliki jumlah sebanyak\", len(data), \"baris.\\n\")\n",
    "\n",
    "total_kuantitas = data['kuantitas-barang'].sum()\n",
    "print(\"Total kuantitas barang yang terjual sebanyak\", total_kuantitas, \"buah.\\n\")\n",
    "\n",
    "rerata_kuantitas = data['kuantitas-barang'].mean()\n",
    "print(\"Rerata pelanggan membeli barang sebanyak\", int(rerata_kuantitas), \"buah.\\n\")\n",
    "\n",
    "maksimum_pembelian = data['kuantitas-barang'].max()\n",
    "print(\"Maksimal pembelian dari pelanggan sebesar\", maksimum_pembelian, \"buah.\\n\")\n",
    "\n",
    "minimum_pembelian = data['kuantitas-barang'].min()\n",
    "print(\"Maksimal pembelian dari pelanggan sebesar\", minimum_pembelian, \"buah.\\n\")\n",
    "\n",
    "standar_pembelian = data['kuantitas-barang'].std()\n",
    "print(\"Simpangan baku dari data pembelian tersebut adalah\", int(standar_pembelian), \"\\n\")\n",
    "\n",
    "print(\"Berikut perhitungan data dari masing-masing operasi:\\n\", data.describe(), '\\n')"
   ]
  },
  {
   "attachments": {},
   "cell_type": "markdown",
   "metadata": {},
   "source": [
    "BAB II: Operasi String"
   ]
  },
  {
   "cell_type": "code",
   "execution_count": null,
   "metadata": {},
   "outputs": [],
   "source": [
    "\n",
    "print(\"Mengubah nama-pelanggan menjadi huruf besar semua:\")\n",
    "data['nama-pelanggan'] = data['nama-pelanggan'].str.upper()\n",
    "print(data.head())"
   ]
  },
  {
   "cell_type": "code",
   "execution_count": null,
   "metadata": {},
   "outputs": [],
   "source": [
    "print(\"\\nMengubah kota-pelanggan menjadi sebuah kode:\")\n",
    "kode_kota = {'Surabaya': '1', 'Jakarta': '2', 'Medan': '3', 'Yogyakarta': '4', 'Semarang': '5'}\n",
    "data['kota-pelanggan'] = data['kota-pelanggan'].replace(kode_kota)\n",
    "print( data.head())"
   ]
  },
  {
   "cell_type": "code",
   "execution_count": null,
   "metadata": {},
   "outputs": [],
   "source": [
    "print(\"\\nMengubah nama-pelanggan menjadi huruf kalimat:\")\n",
    "data['nama-pelanggan'] = data['nama-pelanggan'].str.title()\n",
    "print(data.head())"
   ]
  },
  {
   "cell_type": "code",
   "execution_count": null,
   "metadata": {},
   "outputs": [],
   "source": [
    "print(\"\\nMengembalikan kode menjadi kota-pelanggan:\")\n",
    "kode_kota = {'1': 'Surabaya', '2': 'Jakarta', '3': 'Medan', '4': 'Yogyakarta', '5': 'Semarang'}\n",
    "data['kota-pelanggan'] = data['kota-pelanggan'].replace(kode_kota)\n",
    "print(data.head())"
   ]
  }
 ],
 "metadata": {
  "kernelspec": {
   "display_name": "Python 3",
   "language": "python",
   "name": "python3"
  },
  "language_info": {
   "codemirror_mode": {
    "name": "ipython",
    "version": 3
   },
   "file_extension": ".py",
   "mimetype": "text/x-python",
   "name": "python",
   "nbconvert_exporter": "python",
   "pygments_lexer": "ipython3",
   "version": "3.11.5"
  },
  "orig_nbformat": 4
 },
 "nbformat": 4,
 "nbformat_minor": 2
}
